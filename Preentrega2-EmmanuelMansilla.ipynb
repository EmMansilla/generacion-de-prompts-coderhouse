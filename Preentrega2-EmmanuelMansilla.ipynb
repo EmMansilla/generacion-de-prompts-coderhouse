{
 "cells": [
  {
   "cell_type": "markdown",
   "id": "e2719dee",
   "metadata": {},
   "source": [
    "# Ejemplo de consulta | Few Shoot Prompting"
   ]
  },
  {
   "cell_type": "code",
   "execution_count": 15,
   "id": "9d5df104",
   "metadata": {},
   "outputs": [],
   "source": [
    "import openai"
   ]
  },
  {
   "cell_type": "code",
   "execution_count": 16,
   "id": "b9bec21f",
   "metadata": {},
   "outputs": [],
   "source": [
    "openai.api_key = \"\""
   ]
  },
  {
   "cell_type": "code",
   "execution_count": 17,
   "id": "8d336922",
   "metadata": {},
   "outputs": [],
   "source": [
    "contexto = \"Eres un cocinero profesional, especializado en comida saludable, con conocimiento en opciones para consumo carnívoro, vegetariano y vegano. Para cada plato, respondes con el nombre innovador de éste y una descripción de 30 palabras como máximo.\""
   ]
  },
  {
   "cell_type": "code",
   "execution_count": 18,
   "id": "642c02fb",
   "metadata": {},
   "outputs": [
    {
     "name": "stdout",
     "output_type": "stream",
     "text": [
      "Qué bueno que estés aquí! Todo listo para deleitarte con un rico menú!\n",
      "Indica tu preferencia de menú: Carnívoro | Vegetariano | Vegano: Vegano\n",
      "Excelente! Veamos... tengo una muy buena opción. Pero antes responde lo siguiente.\n",
      "¿Prefieres algo Dulce o Salado?:  Salado\n",
      "Maravilloso! A procesar estos ingredientes!\n",
      "1. \"Delicia Verde Mediterránea\": Tabule de quinoa con pepino, tomate, menta y aderezo de limón.\n",
      "2. \"Wrap Sabroso de Falafel\": Wrap de falafel con hummus, vegetales frescos y salsa tahini.\n",
      "3. \"Bowl Vegano Energético\": Bowl de quinoa, garbanzos, aguacate, vegetales asados y aderezo de cilantro.\n",
      "¿Deseas otro menú? S/NS\n",
      "1. Rollitos de Jardín Zen: Deliciosos rollitos de papel de arroz rellenos de vegetales frescos, tofu marinado y salsa de cacahuate, acompañados de una vinagreta de jengibre y limón.\n",
      "2. Bowl de Sinfonía Vegetal: Una colorida combinación de quinoa, brócoli, batata asada, champiñones salteados y aderezo de tahini y limón, coronado con semillas de girasol tostadas.\n",
      "3. Tacos Veggie Fiesta: Tortillas de maíz rellenas de frijoles negros especiados, pico de gallo fresco, guacamole casero, cilantro y lima, acompañados de una ensalada de col morada y zanahoria rallada.\n",
      "¿Deseas otro menú? S/NN\n",
      "¡Gracias por tu visita!\n"
     ]
    }
   ],
   "source": [
    "continue_loop = True\n",
    "\n",
    "# Bienvenida previa\n",
    "print(\"Qué bueno que estés aquí! Todo listo para deleitarte con un rico menú!\")\n",
    "\n",
    "#Elección de condición\n",
    "alimentacion = input(\"Indica tu preferencia de menú: Carnívoro | Vegetariano | Vegano: \")\n",
    "print(\"Excelente! Veamos... tengo una muy buena opción. Pero antes responde lo siguiente.\")\n",
    "\n",
    "#Elección del tipo de comida\n",
    "tipo_comida = input(\"¿Prefieres algo Dulce o Salado?:  \")\n",
    "print(\"Maravilloso! A procesar estos ingredientes!\")\n",
    "\n",
    "\n",
    "#prompt (text/user's question)\n",
    "prompt = f\"Quiero 3 opciones de platos para alguien {alimentacion} y debe ser un menú {tipo_comida}. Inventá un nombre representativo\"\n",
    "\n",
    "while continue_loop:\n",
    "\n",
    "    # Make the request\n",
    "    conversation = [\n",
    "    {\"role\": \"system\", \"content\": contexto},\n",
    "    {\"role\": \"user\", \"content\": prompt}\n",
    "    ]\n",
    "\n",
    "    response = openai.ChatCompletion.create(\n",
    "    model='gpt-3.5-turbo',\n",
    "    messages=conversation,\n",
    "    max_tokens=700\n",
    "    )\n",
    "\n",
    "    #Storage the response in a variable to use it\n",
    "    phase = response['choices'][0]['message']['content'].strip()\n",
    "    \n",
    "    #Use the variable\n",
    "    print(phase)\n",
    "\n",
    "    choice = input(\"¿Deseas otro menú? S/N\")\n",
    "    if choice.upper() == \"S\":\n",
    "        continue_loop = True\n",
    "    else:\n",
    "        continue_loop = False\n",
    "        break;\n",
    "print(\"¡Gracias por tu visita!\")"
   ]
  },
  {
   "cell_type": "code",
   "execution_count": null,
   "id": "bff84e3e",
   "metadata": {},
   "outputs": [],
   "source": []
  }
 ],
 "metadata": {
  "kernelspec": {
   "display_name": "Python 3 (ipykernel)",
   "language": "python",
   "name": "python3"
  },
  "language_info": {
   "codemirror_mode": {
    "name": "ipython",
    "version": 3
   },
   "file_extension": ".py",
   "mimetype": "text/x-python",
   "name": "python",
   "nbconvert_exporter": "python",
   "pygments_lexer": "ipython3",
   "version": "3.9.13"
  }
 },
 "nbformat": 4,
 "nbformat_minor": 5
}
